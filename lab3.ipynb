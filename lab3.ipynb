{
 "cells": [
  {
   "cell_type": "code",
   "execution_count": 1,
   "id": "fb93a1ec",
   "metadata": {},
   "outputs": [],
   "source": [
    "#declaring neccessary functions\n",
    "import re\n",
    "import math\n",
    "\n",
    "# RETURNs index of needed entropy value from the array of decyphered text\n",
    "def findFromOrigin(toMatchEntropy, decipherEnt): \n",
    "    return decipherEnt.index(toMatchEntropy)\n",
    "\n",
    "# deciphering text with computed deciphering dictionary\n",
    "def toOrigin(text, dict):\n",
    "    res = ''\n",
    "    for letter in text:\n",
    "        if letter not in dict: \n",
    "            res += '?'\n",
    "        else:\n",
    "            res += dict[letter]\n",
    "    return res\n",
    "\n",
    "# returns dictionary of freqency of each letter in the text \n",
    "def frequencyDict(text):\n",
    "    unique_letters = list(set(text)) # unique letters\n",
    "    dict_of_freq = {}\n",
    "    \n",
    "    for symbol in unique_letters:\n",
    "        dict_of_freq[symbol] = text.count(symbol)\n",
    "    return dict_of_freq\n",
    "\n",
    "# returns entropy of a string\n",
    "def entropy(text): \n",
    "    dict_of_freq = frequencyDict(text)\n",
    "    entropy = 0\n",
    "\n",
    "    for item in dict_of_freq: \n",
    "        entropy += dict_of_freq[item]/len(text)*(math.log((dict_of_freq[item]/len(text)), 2)) \n",
    "    return -entropy\n",
    "\n",
    "# get array of texts from the file\n",
    "def fileToArray(fileName):\n",
    "    file = open(fileName, encoding='utf-8',mode='r')\n",
    "    lines = file.readlines() ## array of lines\n",
    "    words = []\n",
    "    for line in lines: # format text to leave only letters.\n",
    "        words.append(re.sub('[^a-zA-Z]+', '', line))\n",
    "        \n",
    "    return words"
   ]
  },
  {
   "cell_type": "code",
   "execution_count": null,
   "id": "5473763e",
   "metadata": {},
   "outputs": [],
   "source": [
    "# getting array of formatted texts\n",
    "originals = fileToArray('original.txt')\n",
    "cyphered = fileToArray('cipher.txt')\n",
    "print(originals)\n",
    "print(cyphered)"
   ]
  },
  {
   "cell_type": "code",
   "execution_count": 11,
   "id": "5afc3e19",
   "metadata": {
    "scrolled": false
   },
   "outputs": [
    {
     "name": "stdout",
     "output_type": "stream",
     "text": [
      "[4.144862858915916, 4.1178329397137645, 4.0791433740260095, 4.045419307703288, 4.027476425527099, 4.020386676036279, 3.9961939115570897, 3.9892750707107125, 3.968834883235099, 3.9607387267630676, 3.9439121895855425, 3.9359272900389333, 3.930791756463185, 3.923435961240164, 3.9128182445069117, 3.8772521316709785, 3.8628214475995337, 3.855771561580194, 3.854484961397713, 3.8442328987631917, 3.8410510200840915, 3.8347375030983426, 3.8305466086383047, 3.7370226198095335, 3.6828872938166413, 3.6308041416063306, 3.6265809793430988, 3.6163956202327325, 3.565120407472074, 3.4570165880026575]\n",
      "[4.0854099059611775, 4.0791433740260095, 4.043396659259682, 4.0274764255271, 4.022075149884437, 3.9906925505971618, 3.9739878852365913, 3.9575161546788937, 3.9307917564631856, 3.9057048015566522, 3.8894741970939095, 3.8846716095858156, 3.869122935849306, 3.86677636469185, 3.861485108429712, 3.8557715615801946, 3.8505719454545817, 3.849529051521568, 3.8442328987631926, 3.8242741794055033, 3.7953249996956164, 3.768964816412473, 3.7619192943253306, 3.7553303265477727, 3.732988757977851, 3.63080414160633, 3.6276204074720737, 3.6265809793430996, 3.540367454009055, 3.480721944688849]\n"
     ]
    }
   ],
   "source": [
    " # array of computed entropies\n",
    "originalEntropyList = list(map(entropy, originals))\n",
    "cypheredEntropyList = list(map(entropy, cyphered)) \n",
    "# sorting them:\n",
    "sortedOriginalEntropyList = sorted(originalEntropyList, reverse=True)\n",
    "sortedCypheredEntropyList = sorted(cypheredEntropyList, reverse=True)\n",
    "print(sortedOriginalEntropyList)\n",
    "print(sortedCypheredEntropyList)"
   ]
  },
  {
   "cell_type": "code",
   "execution_count": 12,
   "id": "675e4b06",
   "metadata": {},
   "outputs": [
    {
     "name": "stdout",
     "output_type": "stream",
     "text": [
      "husvwwrumjmuruhlvzuxbgnhglzbxvpfgzbqezkussgwulrqy\n",
      "aysaulebakytbekangrywithsubscribersforadviceaboutchildrenannouncedpregnancy\n"
     ]
    }
   ],
   "source": [
    "#We can see that the biggest entropies from origin and cypher look the alike 4.14 and 4.08, they might be the right pair:\n",
    "print(cyphered[findFromOrigin(sortedCypheredEntropyList[0], cypheredEntropyList)])\n",
    "print(originals[findFromOrigin(sortedOriginalEntropyList[0], originalEntropyList)])"
   ]
  },
  {
   "cell_type": "code",
   "execution_count": null,
   "id": "9fdee929",
   "metadata": {},
   "outputs": [],
   "source": []
  },
  {
   "cell_type": "code",
   "execution_count": 17,
   "id": "f9e3c498",
   "metadata": {},
   "outputs": [
    {
     "name": "stdout",
     "output_type": "stream",
     "text": [
      "benaffleckcelebratedhisbirthdaywithoutjenniferlopez\n",
      "husvwwrumjmuruhlvzuxbgnhglzbxvpfgzbqezkussgwulrqy\n"
     ]
    }
   ],
   "source": [
    "#Unfortunately we see that they are not matching - different lengths, different bijections...\n",
    "# We will try to take the BIGGEST entropy text from cyphered and SECOND BIGGEST from original texts - 4.08 and 4.11\n",
    "a = originals[findFromOrigin(sortedOriginalEntropyList[1], originalEntropyList)]\n",
    "b = cyphered[findFromOrigin(sortedCypheredEntropyList[0], cypheredEntropyList)]\n",
    "print(a)\n",
    "print(b)\n"
   ]
  },
  {
   "cell_type": "code",
   "execution_count": 21,
   "id": "fa98136a",
   "metadata": {},
   "outputs": [
    {
     "name": "stdout",
     "output_type": "stream",
     "text": [
      "h b\n",
      "u e\n",
      "s n\n",
      "v a\n",
      "w f\n",
      "r l\n",
      "m c\n",
      "j k\n",
      "l r\n",
      "z t\n",
      "x d\n",
      "b h\n",
      "g i\n",
      "n s\n",
      "p y\n",
      "f w\n",
      "q o\n",
      "e u\n",
      "k j\n",
      "y p\n"
     ]
    }
   ],
   "source": [
    "# we see that they do match, then lets create DICTIONARY OF RIGHT BIJECTION:\n",
    "dic= {}\n",
    "for i in range (len(b)):\n",
    "    if(b[i] not in dic):\n",
    "        dic[b[i]] = a[i]\n",
    "for el in dic:\n",
    "    print(el,dic[el])"
   ]
  },
  {
   "cell_type": "code",
   "execution_count": 30,
   "id": "a18cdb23",
   "metadata": {},
   "outputs": [
    {
     "name": "stdout",
     "output_type": "stream",
     "text": [
      "jvzucgxxruzqsvsxoeuusurgzvhuzhmqsilvzervzucuibvscvljruqsbulhglzbxvp\n",
      "kateciddletonandoueenelitabetbconiratulateceihancarkleonherbirthday\n",
      "-------------------------------------------------------------------\n",
      "hlgzsugnyuvlnvssqesmuxbulusiaiucuszzqnvcvnivlg\n",
      "britneispearsannouncedhereniaiecenttosacasiari\n",
      "----------------------------------------------\n",
      "svtpcvhgrxgsviqzcvllguxvmmqlxgsizqcenrgczlvxgzgqsnvsxnbqfuxzbumbqnu\n",
      "natycabildinaiotcarriedaccordinitocuslictraditionsandshowedthechose\n",
      "-------------------------------------------------------------------\n",
      "hlgzsugnyuvlnsvcuxzgcuncqnzgswreuszgvryulnqsqwzbu\n",
      "britneispearsnacedticescostinfluentialpersonofthe\n",
      "-------------------------------------------------\n",
      "cuchulqwzbuxeuzhvmmvlvcvlgvcusxgqrvxgux\n",
      "cecberoftheduetbaccaracariacendioladied\n",
      "---------------------------------------\n",
      "zqluivrgzqluvrgfgzbvrgzzrunqsgsbgnvlcnzqembuxhvts\n",
      "toreialitorealiwithalittlesoninhisarcstouchedbatn\n",
      "-------------------------------------------------\n",
      "vpnveruhvjpzhujvssqesmuxyluisvsmo\n",
      "aysaulebakytbekannouncedpreinanco\n",
      "---------------------------------\n",
      "zvcvlvvnvlfgzbbulsufhqlsxveibzulvllvsiuxvhllvsiuxvhlgibzxgnmbvliuwlqczbubqnygzvr\n",
      "tacaraasarwithhernewborndauihterarraniedabrraniedabriihtdischariefrocthehospital\n",
      "--------------------------------------------------------------------------------\n",
      "cvxgsvnvxavjvnqavhqeibzvredelgqenvyvlzcuszhpzbunu\n",
      "cadinasadaakasoaabouihtaluduriousapartcentbythese\n",
      "-------------------------------------------------\n",
      "puvlqrxzvcvlvvnvlhumvcuvcqzbulwqlzhunumqsxzgcu\n",
      "yearoldtacaraasarbecaceacotherfortbesecondtice\n",
      "----------------------------------------------\n",
      "nvrzvsvzhvjvuavvsxbulbenhvsxburxviusxulyvlz\n",
      "saltanatbakaeaaandherhusbandheldaienderpart\n",
      "-------------------------------------------\n",
      "jprgukussulvssqesmuxbulyluisvsmo\n",
      "kyliejennerannouncedherpreinanco\n",
      "--------------------------------\n",
      "yuqyrucvivtgsuyehrgnbuxvmzqlnxgvsujleiulvsxsqlcvsluuxenvluusiviux\n",
      "peoplecaiatinepublishedactorsdianekruierandnorcanreedusareeniaied\n",
      "-----------------------------------------------------------------\n",
      "nmvlruzzkqbvsnnqsivauhglzbzqbulnumqsxmbgrx\n",
      "scarlettjohanssoniaaebirthtohersecondchild\n",
      "------------------------------------------\n",
      "husvwwrumjmuruhlvzuxbgnhglzbxvpfgzbqezkussgwulrqy\n",
      "benaffleckcelebratedhisbirthdaywithoutjenniferlop\n",
      "-------------------------------------------------\n",
      "cgmbvurjqlnpqexqszbvauzqhuwvcqenzqhuviqqxxungisul\n",
      "cichaelkorsyoudonthaaetobefacoustobeaiooddesiiner\n",
      "-------------------------------------------------\n",
      "jvzucgxxruzqsvsxylgsmufgrrgvcfuszqsavmvzgqszqzbuglwvaqlgzugnrvsxn\n",
      "kateciddletonandprincewilliacwentonaacationtotheirfaaoriteislands\n",
      "-----------------------------------------------------------------\n",
      "zbunzvlfbqnuyqyervlgzpbvnhlqeibzzbuhlgrrgvszyulwqlcvsmuzbulqruqwbellucgnsqfgsbulngdzbcqszbqwyluisvsmp\n",
      "thestarwhosepopularityhasbrouihtthebrilliantperforcancetheroleofhurrecisnowinhersidthconthofpreinancy\n",
      "-----------------------------------------------------------------------------------------------------\n",
      "vwzulwvsnqwwvjblguuaiusnvfbulpuvlqrxybqzqilvwngzhumvcumruvlzquaulpqsuzbvzzbulufvnveuuxwqlvunzbuzgjcuxgmgsu\n",
      "afterfansoffakhrieeaiensawheryearoldphotoirafsitbecacecleartoeaeryonethattherewasaueedforaesthetikcedicine\n",
      "----------------------------------------------------------------------------------------------------------\n",
      "zeljgnbcuxgvluyqlzuxzbvzhelvjvsxwvjblguvluiuzzgsixgaqlnux\n",
      "turkishcediareportedthatburakandfakhrieareiettinidiaorsed\n",
      "---------------------------------------------------------\n",
      "bqrrpfqqxvmzlunnkussgwulrvflrusmugnyluisvsz\n",
      "hollywoodactressjenniferlawrlenceispreinant\n",
      "-------------------------------------------\n",
      "cvjnggcfvnwglnzyehrgnuxvwzulvsgrrsunn\n",
      "caksiicwasfirstpublisedafteranillness\n",
      "-------------------------------------\n",
      "hlgzsupnyuvlnnvpnbulwvzbuludtqlzuxcqsupwlq\n",
      "britneyspearssaysherfatheredtortedconeyfro\n",
      "------------------------------------------\n",
      "svtpcvhgrxgsvzqrxfbusbulfuxxgsifgrrzvjuyrv\n",
      "natycabildinatoldwhenherweddiniwilltakepla\n",
      "------------------------------------------\n",
      "usqeibyrvnzgmcvxqssvnsufnurwgunmvluxnqcuqw\n",
      "enouihplasticcadonnasnewselfiescaredsoceof\n",
      "------------------------------------------\n",
      "zbuvmzlunnfbqyrvpuxclnbexnqsgsnbulrqmjxgun\n",
      "theactresswhoplayedcrshudsoninsherlockdies\n",
      "------------------------------------------\n",
      "ngsiulhuljezfvnwgsuxwqlyvlzgmgyvzgsigszbuqyusgsiqwzgcvzgheliulgsvrc\n",
      "sinierberkutwasfinedforparticipatiniintheopeniniofticatiburierinalc\n",
      "-------------------------------------------------------------------\n",
      "vgjpsvsxtberxptqcglivrgwrufzqlenngv\n",
      "aikynandthuldytocirialiflewtorussia\n",
      "-----------------------------------\n",
      "nvpcqzlguxqsgsmluxghrurqqjngssufcen\n",
      "saycotriedonincrediblelooksinnewcus\n",
      "-----------------------------------\n",
      "lgbvssvqwwgmgvrrphumvcuvhgrrqsvglu\n",
      "rihannaofficiallybecaceabillonaire\n",
      "----------------------------------\n"
     ]
    }
   ],
   "source": [
    "for text in cyphered:   # now we dont know 6 letter cypherent cause they werent in our helper text\n",
    "    decyphered = toOrigin(text,dic)\n",
    "    if('?' in decyphered): #so we get them from what we have:\n",
    "        dic[text[decyphered.index('-')]] = text[decyphered.index('-')]\n",
    "    \n",
    "for text in cyphered:\n",
    "    print(text)\n",
    "    print(toOrigin(text,dic))\n",
    "    print('-'*(len(text))) # just separator"
   ]
  },
  {
   "cell_type": "code",
   "execution_count": null,
   "id": "7e5b52f2",
   "metadata": {},
   "outputs": [],
   "source": []
  }
 ],
 "metadata": {
  "kernelspec": {
   "display_name": "Python 3 (ipykernel)",
   "language": "python",
   "name": "python3"
  },
  "language_info": {
   "codemirror_mode": {
    "name": "ipython",
    "version": 3
   },
   "file_extension": ".py",
   "mimetype": "text/x-python",
   "name": "python",
   "nbconvert_exporter": "python",
   "pygments_lexer": "ipython3",
   "version": "3.9.2"
  }
 },
 "nbformat": 4,
 "nbformat_minor": 5
}
